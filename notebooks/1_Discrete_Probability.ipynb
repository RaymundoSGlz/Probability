{
 "cells": [
  {
   "attachments": {},
   "cell_type": "markdown",
   "metadata": {},
   "source": [
    "# 1. Probabilidad Discreta"
   ]
  },
  {
   "attachments": {},
   "cell_type": "markdown",
   "metadata": {},
   "source": [
    "## 1.1 Introducción a la probabilidad discreta"
   ]
  },
  {
   "attachments": {},
   "cell_type": "markdown",
   "metadata": {},
   "source": [
    "### Probabilidad discreta\n",
    "\n",
    "Notación:\n",
    "\n",
    "Usamos $P(A)$ para denotar la probabilidad de que suceda evento 𝐴. Usamos el término general evento para referirnos a cosas que pueden suceder cuando algo ocurre por casualidad.\n",
    "\n",
    "Supongamos que tenemos una bolsa con canicas, en este caso 2 rojas y 3 azules:\n",
    "\n",
    "La probabilidad de elegir una canica de algún color se define como\n",
    "\n",
    "$$\n",
    "P(\\text{Canica}_{Color}) = \\frac{\\text{Cantidad de canicas}_{color}}{\\text{Total de canicas}}\n",
    "$$\n",
    "\n",
    "### Monte Carlo Simulations\n",
    "\n",
    "Las computadoras ofrecen una forma de realizar el experimento aleatorio sencillo descrito anteriormente: elegir una canica al azar de una urna que contiene tres canicas azules y dos rojas. Los generadores de números aleatorios nos permiten imitar el proceso de escoger al azar.\n",
    "\n",
    "Para ello utilizamos la funcion sample en R"
   ]
  },
  {
   "cell_type": "code",
   "execution_count": 3,
   "metadata": {
    "vscode": {
     "languageId": "r"
    }
   },
   "outputs": [
    {
     "data": {
      "text/html": [
       "<style>\n",
       ".list-inline {list-style: none; margin:0; padding: 0}\n",
       ".list-inline>li {display: inline-block}\n",
       ".list-inline>li:not(:last-child)::after {content: \"\\00b7\"; padding: 0 .5ex}\n",
       "</style>\n",
       "<ol class=list-inline><li>'roja'</li><li>'roja'</li><li>'azul'</li><li>'azul'</li><li>'azul'</li></ol>\n"
      ],
      "text/latex": [
       "\\begin{enumerate*}\n",
       "\\item 'roja'\n",
       "\\item 'roja'\n",
       "\\item 'azul'\n",
       "\\item 'azul'\n",
       "\\item 'azul'\n",
       "\\end{enumerate*}\n"
      ],
      "text/markdown": [
       "1. 'roja'\n",
       "2. 'roja'\n",
       "3. 'azul'\n",
       "4. 'azul'\n",
       "5. 'azul'\n",
       "\n",
       "\n"
      ],
      "text/plain": [
       "[1] \"roja\" \"roja\" \"azul\" \"azul\" \"azul\""
      ]
     },
     "metadata": {},
     "output_type": "display_data"
    },
    {
     "data": {
      "text/html": [
       "'azul'"
      ],
      "text/latex": [
       "'azul'"
      ],
      "text/markdown": [
       "'azul'"
      ],
      "text/plain": [
       "[1] \"azul\""
      ]
     },
     "metadata": {},
     "output_type": "display_data"
    }
   ],
   "source": [
    "# comenzamos creando la bolsa de canicas\n",
    "canicas <- rep(c(\"roja\", \"azul\"), times = c(2, 3))\n",
    "\n",
    "# Observamos el contenido de la bolsa\n",
    "canicas\n",
    "\n",
    "# utilizamos la función sample para escoger una al azar\n",
    "sample(canicas, 1)"
   ]
  },
  {
   "attachments": {},
   "cell_type": "markdown",
   "metadata": {},
   "source": [
    "Esta línea de código produce un resultado aleatorio. Queremos repetir este experimento un número infinito de veces, pero es imposible repetirlo para siempre. Sin embargo, podemos repetir el experimento un número suficientemente grande de veces para que los resultados sean prácticamente equivalentes a repetirlo para siempre. Este es un ejemplo de una simulación Monte Carlo.\n",
    "\n",
    "Para realizar nuestra primera simulación Monte Carlo, utilizamos la función replicate, que nos permite repetir la misma tarea varias veces. Aquí, repetimos el evento aleatorio $𝐵 = 10000$ veces:"
   ]
  },
  {
   "cell_type": "code",
   "execution_count": 6,
   "metadata": {
    "vscode": {
     "languageId": "r"
    }
   },
   "outputs": [
    {
     "data": {
      "text/plain": [
       "eventos\n",
       "  azul   roja \n",
       "0.5979 0.4021 "
      ]
     },
     "metadata": {},
     "output_type": "display_data"
    }
   ],
   "source": [
    "b <- 10000\n",
    "eventos <- replicate(b, sample(canicas, 1))\n",
    "\n",
    "#usaremos table para ver la distribución\n",
    "tab <- table(eventos)\n",
    "\n",
    "# Mostramos las proporciones\n",
    "prop.table(tab)"
   ]
  },
  {
   "attachments": {},
   "cell_type": "markdown",
   "metadata": {},
   "source": [
    "Los números anteriores son probabilidades estimadas proveídas por una simulación Monte Carlo. La teoría estadística, que no discutimos aquí, nos dice que en lo que 𝐵 se hace más grande, las estimaciones se acercan a $3/5 = 0.6$ y $2/5 = 0.4$.\n",
    "\n",
    "La función sample tiene un argumento que nos permite elegir más de un elemento de la urna. Sin embargo, por defecto, esta selección ocurre sin reemplazo; es decir, después de seleccionar una canica, no se vuelve a colocar en la urna.\n",
    "\n",
    "Sin embargo, la función sample se puede usar directamente, sin el uso de replicate, para repetir el mismo experimento de elegir 1 de las 5 canicas, continuamente, en las mismas condiciones. Para hacer esto, muestreamos con reemplazo; es decir, se devuelve la canica a la urna después de seleccionarla. Podemos decirle a sample que haga esto cambiando el argumento replace, que por defecto es `FALSE`, a `replace = TRUE`:"
   ]
  },
  {
   "cell_type": "code",
   "execution_count": 8,
   "metadata": {
    "vscode": {
     "languageId": "r"
    }
   },
   "outputs": [
    {
     "data": {
      "text/plain": [
       "events\n",
       "  azul   roja \n",
       "0.6123 0.3877 "
      ]
     },
     "metadata": {},
     "output_type": "display_data"
    }
   ],
   "source": [
    "#utilizando replace\n",
    "events <- sample(canicas, b, replace = TRUE)\n",
    "prop.table(table(events))"
   ]
  },
  {
   "attachments": {},
   "cell_type": "markdown",
   "metadata": {},
   "source": [
    "****Setting the Random Seed:****\n",
    "\n",
    "```r\n",
    "set.seed(1986)\n",
    "```\n",
    "\n",
    "Al trabajar con números aleatorios los resultados pueden variar. Sin embargo, si queremos asegurarnos de que los resultados sean los mismos cada vez que se ejecuten podemos fijar la semilla (seed en inglés) de generación de números aleatorios de R en un número específico. Arriba la fijamos en 1986. Queremos evitar usar la misma semilla cada vez. Una forma popular de escoger la semilla es restando el mes y el día del año. Por ejemplo, para el 20 de diciembre de 2018 fijamos la semilla en $1986: 2018 − 12 − 20 = 1986.$\n",
    "\n",
    "### Probability Distributions\n",
    "\n",
    "Si conocemos la frecuencia relativa de las diferentes categorias, podemos definir una distribucion para resultados categoricos, asignando una probabilidad a cada categoria \n",
    "\n",
    "Si estamos llamando al azar a votantes probables de una población que es 44% demócratas, 44% republicanos, 10% indecisos y 2% del partido verde, estas proporciones definen la probabilidad para cada grupo. La distribución de probabilidad es:\n",
    "\n",
    "| P(elegir un republicano) | 0.44 |\n",
    "| --- | --- |\n",
    "| P(elegir un demócrata) | 0.44 |\n",
    "| P(elegir un indeciso) | 0.10 |\n",
    "| P(elegir un verde) | 0.02 |\n",
    "\n",
    "### Independence\n",
    "\n",
    "Decimos que dos eventos son independientes si el resultado de uno no afecta al otro. El ejemplo clásico es el lanzamiento de monedas. Cada vez que lanzamos una moneda, la probabilidad de ver cara es 1/2, independientemente de los resultados de lanzamientos anteriores. Lo mismo es cierto cuando recogemos canicas de una urna con reemplazo. En el ejemplo anterior, la probabilidad de rojo es 0.40 independientemente de las selecciones anteriores.\n",
    "\n",
    "#### Probabilidades condicionales:\n",
    "\n",
    "Cuando los eventos no son independientes, las probabilidades condicionales son útiles. Ya vimos un ejemplo de una probabilidad condicional: calculamos la probabilidad de que una segunda carta repartida sea K dado que la primera fue K. En la probabilidad, usamos la\n",
    "siguiente notación:\n",
    "\n",
    "$$\n",
    "P(\\text{Segunda carta sea Rey}|\\text{Primer carta es Rey}) = \\frac{3}{51} \n",
    "$$\n",
    "\n",
    "Utilizamos | como abreviatura de “dado que”\n",
    "\n",
    "Cuando dos eventos A y B son independientes tendremos:\n",
    "\n",
    "$$\n",
    "P(A|B) = P(A)\n",
    "$$\n",
    "\n",
    "Esta es la forma matemática de decir: el hecho de que 𝐵 sucedió no afecta la probabilidad de que 𝐴 suceda. De hecho, esto puede considerarse la definición matemática de independencia\n",
    "\n",
    "#### Regla de multiplicación:\n",
    "\n",
    "Si queremos saber la probabilidad de que ocurran dos eventos, digamos 𝐴 y 𝐵, podemos usar la regla de la multiplicación:\n",
    "\n",
    "$$\n",
    "P(A \\: y \\: B) = P(A)P(A|B)\n",
    "$$\n",
    "\n",
    "Podemos por inducción incluir mas eventos\n",
    "\n",
    "$$\n",
    "P(A \\: y \\: B \\: y \\: C) = P(A)P(A|B)P(C|A\\:y\\:B)\n",
    "$$\n",
    "\n",
    "Cuando tenemos eventos independientes, la regla de la multiplicación se hace más sencilla:\n",
    "\n",
    "$$\n",
    "P(A \\: y \\: B \\: y \\: C) = P(A)P(B)P(C)\n",
    "$$\n",
    "\n",
    "Debemos tener mucho cuidado antes de usar esto ya que suponer independencia cuando realmente no existe puede resultar en cálculos de probabilidad muy diferentes e incorrectos."
   ]
  },
  {
   "attachments": {},
   "cell_type": "markdown",
   "metadata": {},
   "source": [
    "## 1.2. Combinations and Permutations"
   ]
  }
 ],
 "metadata": {
  "kernelspec": {
   "display_name": "R",
   "language": "R",
   "name": "ir"
  },
  "language_info": {
   "codemirror_mode": "r",
   "file_extension": ".r",
   "mimetype": "text/x-r-source",
   "name": "R",
   "pygments_lexer": "r",
   "version": "4.2.3"
  },
  "orig_nbformat": 4
 },
 "nbformat": 4,
 "nbformat_minor": 2
}
